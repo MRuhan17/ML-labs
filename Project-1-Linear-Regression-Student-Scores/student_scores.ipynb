# Project 1: Predict Student Scores using Linear Regression

## 📌 Objective
To predict student exam scores based on the number of hours studied using a **Linear Regression model**.

---

## 📊 Dataset
We use a small dataset with "Hours Studied" as the input feature and "Scores" as the output label.

| Hours | Scores |
|-------|--------|
| 1     | 35     |
| 2     | 40     |
| 3     | 50     |
| 4     | 65     |
| 5     | 75     |
| 6     | 85     |
| 7     | 88     |
| 8     | 95     |
| 9     | 99     |

---

## 🛠️ Libraries Required
- **pandas** → for dataset handling  
- **matplotlib** → for visualization  
- **scikit-learn** → for machine learning model  

# Step 1: Import libraries
import pandas as pd
import matplotlib.pyplot as plt
from sklearn.linear_model import LinearRegression

# Step 2: Create Dataset
data = {'Hours': [1, 2, 3, 4, 5, 6, 7, 8, 9], 
        'Scores': [35, 40, 50, 65, 75, 85, 88, 95, 99]}
df = pd.DataFrame(data)
df

# Step 3: Define Features (X) and Labels (y)
X = df[['Hours']]   # 2D input
y = df['Scores']    # output

# Step 4: Train Linear Regression Model
model = LinearRegression()
model.fit(X, y)

print("Slope (m):", model.coef_[0])
print("Intercept (c):", model.intercept_)

# Step 5: Make Predictions
pred = model.predict([[7.5]])
print(f"Predicted Score for 7.5 hours of study: {pred[0]:.2f}")

# Try predicting for 10 hours
print("Predicted Score for 10 hours of study:", model.predict([[10]])[0])

# Step 6: Visualization
plt.scatter(X, y, color="blue", label="Actual data")
plt.plot(X, model.predict(X), color="red", label="Best fit line")
plt.xlabel("Hours Studied")
plt.ylabel("Exam Score")
plt.legend()
plt.show()

## 📈 Results
- The model predicts ~92 marks for **7.5 hours of study**.  
- The regression line fits the data well.  

---

## 🔍 Reflection
- This was a **Supervised Learning Regression** problem.  
- Linear Regression finds the best-fit line `y = mX + c`.  
- Real-world applications:
  - Predicting **house prices** from area
  - Estimating **salary** from experience
  - Forecasting **sales** from marketing spend

✅ First ML project completed!
